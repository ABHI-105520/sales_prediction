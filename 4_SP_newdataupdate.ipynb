{
 "cells": [
  {
   "cell_type": "code",
   "execution_count": null,
   "id": "12590a4c",
   "metadata": {},
   "outputs": [],
   "source": [
    "import pandas as pd"
   ]
  },
  {
   "cell_type": "code",
   "execution_count": null,
   "id": "754ee1ea",
   "metadata": {},
   "outputs": [],
   "source": [
    "o_df=pd.read_csv('sales.csv')\n",
    "n_df=pd.read_csv('data_2018.csv') #enter new dataset name everytime while uploading new data"
   ]
  },
  {
   "cell_type": "code",
   "execution_count": null,
   "id": "db7b9aed",
   "metadata": {},
   "outputs": [],
   "source": [
    "o_df=o_df[['date', 'sales']]\n",
    "o_df.head()"
   ]
  },
  {
   "cell_type": "code",
   "execution_count": null,
   "id": "f76aa4f1",
   "metadata": {},
   "outputs": [],
   "source": [
    "o_df.tail()"
   ]
  },
  {
   "cell_type": "code",
   "execution_count": null,
   "id": "7c3e06b3",
   "metadata": {},
   "outputs": [],
   "source": [
    "n_df=n_df[['date', 'sales']]\n",
    "n_df.head()"
   ]
  },
  {
   "cell_type": "code",
   "execution_count": null,
   "id": "27775736",
   "metadata": {},
   "outputs": [],
   "source": [
    "n_df.tail()"
   ]
  },
  {
   "cell_type": "code",
   "execution_count": null,
   "id": "6bf9be11",
   "metadata": {},
   "outputs": [],
   "source": [
    "merge_df = pd.concat([o_df, n_df])\n",
    "merge_df.head()"
   ]
  },
  {
   "cell_type": "code",
   "execution_count": null,
   "id": "c3cd7111",
   "metadata": {},
   "outputs": [],
   "source": [
    "merge_df.tail()"
   ]
  },
  {
   "cell_type": "code",
   "execution_count": null,
   "id": "90f11a78",
   "metadata": {},
   "outputs": [],
   "source": [
    "merge_df.to_csv('sales.csv')"
   ]
  },
  {
   "cell_type": "code",
   "execution_count": null,
   "id": "a1dc43e8",
   "metadata": {},
   "outputs": [],
   "source": []
  }
 ],
 "metadata": {
  "kernelspec": {
   "display_name": "Python 3 (ipykernel)",
   "language": "python",
   "name": "python3"
  },
  "language_info": {
   "codemirror_mode": {
    "name": "ipython",
    "version": 3
   },
   "file_extension": ".py",
   "mimetype": "text/x-python",
   "name": "python",
   "nbconvert_exporter": "python",
   "pygments_lexer": "ipython3",
   "version": "3.9.12"
  }
 },
 "nbformat": 4,
 "nbformat_minor": 5
}
