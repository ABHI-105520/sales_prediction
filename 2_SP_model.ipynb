{
 "cells": [
  {
   "cell_type": "code",
   "execution_count": null,
   "id": "cf84b944",
   "metadata": {},
   "outputs": [],
   "source": [
    "import pickle\n",
    "\n",
    "import pandas as pd\n",
    "import numpy as np\n",
    "\n",
    "import matplotlib.pyplot as plt\n",
    "import seaborn as sns\n",
    "\n",
    "from sklearn.preprocessing import MinMaxScaler\n",
    "from sklearn.linear_model import LinearRegression\n",
    "from sklearn.metrics import mean_squared_error, mean_absolute_error, r2_score\n",
    "from sklearn.ensemble import RandomForestRegressor\n",
    "from xgboost.sklearn import XGBRegressor\n",
    "\n",
    "import keras\n",
    "from keras.layers import Dense\n",
    "from keras.models import Sequential\n",
    "from keras.layers import LSTM\n",
    "\n",
    "import statsmodels.api as sm"
   ]
  },
  {
   "cell_type": "code",
   "execution_count": null,
   "id": "aada935d",
   "metadata": {},
   "outputs": [],
   "source": [
    "def load_data(file_name):\n",
    "    return pd.read_csv(file_name)\n",
    "\n",
    "model_scores = {}"
   ]
  },
  {
   "cell_type": "code",
   "execution_count": null,
   "id": "f7595e9b",
   "metadata": {},
   "outputs": [],
   "source": [
    "def tts(data):\n",
    "    data = data.drop(['sales', 'date'], axis=1)\n",
    "    train, test = data[0:-12].values, data[-12:].values\n",
    "\n",
    "    return train, test"
   ]
  },
  {
   "cell_type": "code",
   "execution_count": null,
   "id": "c4541bd0",
   "metadata": {},
   "outputs": [],
   "source": [
    "def scale_data(train_set, test_set):\n",
    "    #apply Min Max Scaler\n",
    "    scaler = MinMaxScaler(feature_range=(-1, 1))\n",
    "    scaler = scaler.fit(train_set)\n",
    "\n",
    "    # reshape training set\n",
    "    train_set = train_set.reshape(train_set.shape[0], train_set.shape[1])\n",
    "    train_set_scaled = scaler.transform(train_set)\n",
    "\n",
    "    # reshape test set\n",
    "    test_set = test_set.reshape(test_set.shape[0], test_set.shape[1])\n",
    "    test_set_scaled = scaler.transform(test_set)\n",
    "\n",
    "    X_train, y_train = train_set_scaled[:, 1:], train_set_scaled[:, 0:1].ravel()\n",
    "    X_test, y_test = test_set_scaled[:, 1:], test_set_scaled[:, 0:1].ravel()\n",
    "\n",
    "    return X_train, y_train, X_test, y_test, scaler"
   ]
  },
  {
   "cell_type": "code",
   "execution_count": null,
   "id": "e7940608",
   "metadata": {},
   "outputs": [],
   "source": [
    "def undo_scaling(y_pred, x_test, scaler_obj, lstm=False):\n",
    "    #reshape y_pred\n",
    "    y_pred = y_pred.reshape(y_pred.shape[0], 1, 1)\n",
    "\n",
    "    if not lstm:\n",
    "        x_test = x_test.reshape(x_test.shape[0], 1, x_test.shape[1])\n",
    "\n",
    "    #rebuild test set for inverse transform\n",
    "    pred_test_set = []\n",
    "    for index in range(0, len(y_pred)):\n",
    "        pred_test_set.append(np.concatenate([y_pred[index], x_test[index]],axis=1))\n",
    "\n",
    "    #reshape pred_test_set\n",
    "    pred_test_set = np.array(pred_test_set)\n",
    "    pred_test_set = pred_test_set.reshape(pred_test_set.shape[0],pred_test_set.shape[2])\n",
    "\n",
    "    #inverse transform\n",
    "    pred_test_set_inverted = scaler_obj.inverse_transform(pred_test_set)\n",
    "\n",
    "    return pred_test_set_inverted"
   ]
  },
  {
   "cell_type": "code",
   "execution_count": null,
   "id": "4d7c38ae",
   "metadata": {},
   "outputs": [],
   "source": [
    "def predict_df(unscaled_predictions, original_df):\n",
    "    #create dataframe that shows the predicted sales\n",
    "    result_list = []\n",
    "    sales_dates = list(original_df[-13:].date)\n",
    "    act_sales = list(original_df[-13:].sales)\n",
    "\n",
    "    for index in range(0, len(unscaled_predictions)):\n",
    "        result_dict = {}\n",
    "        result_dict['pred_value'] = int(unscaled_predictions[index][0] + act_sales[index])\n",
    "        result_dict['date'] = sales_dates[index+1]\n",
    "        result_list.append(result_dict)\n",
    "\n",
    "    df_result = pd.DataFrame(result_list)\n",
    "\n",
    "    return df_result"
   ]
  },
  {
   "cell_type": "code",
   "execution_count": null,
   "id": "862fc0f1",
   "metadata": {},
   "outputs": [],
   "source": [
    "def get_scores(unscaled_df, original_df, model_name):\n",
    "    rmse = np.sqrt(mean_squared_error(original_df.sales[-12:], unscaled_df.pred_value[-12:]))\n",
    "    mae = mean_absolute_error(original_df.sales[-12:], unscaled_df.pred_value[-12:])\n",
    "    r2 = r2_score(original_df.sales[-12:], unscaled_df.pred_value[-12:])\n",
    "    model_scores[model_name] = [rmse, mae, r2]\n",
    "    print(model_name+':')\n",
    "    print(f\"RMSE: {rmse}\")\n",
    "    print(f\"MAE: {mae}\")\n",
    "    print(f\"R2 Score: {r2}\",'\\n')"
   ]
  },
  {
   "cell_type": "code",
   "execution_count": null,
   "id": "dc0894b8",
   "metadata": {},
   "outputs": [],
   "source": [
    "def plot_results(results, original_df, model_name):\n",
    "    fig, ax = plt.subplots(figsize=(15, 5))\n",
    "    sns.lineplot(x='date', y='sales', data=original_df, ax=ax,label='Original', color='mediumblue')\n",
    "    sns.lineplot(x='date', y='pred_value', data=results, ax=ax,label='Predicted', color='red')\n",
    "    ax.set(xlabel=\"Date\",ylabel=\"Sales\",title=f\"{model_name} Sales Forecasting Prediction\")\n",
    "    ax.legend()\n",
    "    sns.despine()\n",
    "\n",
    "    plt.savefig(f'{model_name}_forecast.png')"
   ]
  },
  {
   "cell_type": "code",
   "execution_count": null,
   "id": "a1cd733c",
   "metadata": {},
   "outputs": [],
   "source": [
    "def regressive_model(train_data, test_data, model, model_name):\n",
    "    # Split into X & y and scale data\n",
    "    X_train, y_train, X_test, y_test, scaler_object = scale_data(train_data,test_data)\n",
    "    # Run sklearn models\n",
    "    mod = model\n",
    "    mod.fit(X_train, y_train)\n",
    "    predictions = mod.predict(X_test)\n",
    "\n",
    "    # Undo scaling to compare predictions against original data\n",
    "    original_df = load_data('monthly_data.csv')\n",
    "    unscaled = undo_scaling(predictions, X_test, scaler_object)\n",
    "    unscaled_df = predict_df(unscaled, original_df)\n",
    "\n",
    "    # print scores and plot results\n",
    "    get_scores(unscaled_df, original_df, model_name)\n",
    "    plot_results(unscaled_df, original_df, model_name)"
   ]
  },
  {
   "cell_type": "code",
   "execution_count": null,
   "id": "e82f30c0",
   "metadata": {},
   "outputs": [],
   "source": [
    "def lstm_model(train_data, test_data):\n",
    "\n",
    "    # Split into X & y and scale data\n",
    "    X_train, y_train, X_test, y_test, scaler_object = scale_data(train_data, test_data)\n",
    "\n",
    "    X_train = X_train.reshape(X_train.shape[0], 1, X_train.shape[1])\n",
    "    X_test = X_test.reshape(X_test.shape[0], 1, X_test.shape[1])\n",
    "\n",
    "    # Build LSTM\n",
    "    model = Sequential()\n",
    "    model.add(LSTM(4, batch_input_shape=(1, X_train.shape[1], X_train.shape[2]), stateful=True))\n",
    "    model.add(Dense(1))\n",
    "    model.add(Dense(1))\n",
    "    model.compile(loss='mean_squared_error', optimizer='adam')\n",
    "    model.fit(X_train, y_train, epochs=100, batch_size=1, verbose=1, shuffle=False)\n",
    "    predictions = model.predict(X_test, batch_size=1)\n",
    "\n",
    "    # Undo scaling to compare predictions against original data\n",
    "    original_df = load_data('monthly_data.csv')\n",
    "    unscaled = undo_scaling(predictions, X_test, scaler_object, lstm=True)\n",
    "    unscaled_df = predict_df(unscaled, original_df)\n",
    "\n",
    "    # print scores and plot results\n",
    "    get_scores(unscaled_df, original_df, 'LSTM')\n",
    "    plot_results(unscaled_df, original_df, 'LSTM')"
   ]
  },
  {
   "cell_type": "code",
   "execution_count": null,
   "id": "282acaee",
   "metadata": {},
   "outputs": [],
   "source": [
    "#MAIN\n",
    "\n",
    "# Regression models\n",
    "model_df = load_data('model_df.csv')\n",
    "train, test = tts(model_df)"
   ]
  },
  {
   "cell_type": "code",
   "execution_count": null,
   "id": "1d5f3de3",
   "metadata": {},
   "outputs": [],
   "source": [
    "# Sklearn\n",
    "regressive_model(train, test, LinearRegression(), 'LinearRegression')\n",
    "regressive_model(train, test, RandomForestRegressor(n_estimators=100, max_depth=20),'RandomForest')\n",
    "regressive_model(train, test, XGBRegressor(n_estimators=100,learning_rate=0.2,objective='reg:squarederror'),'XGBoost')"
   ]
  },
  {
   "cell_type": "code",
   "execution_count": null,
   "id": "f53267a7",
   "metadata": {},
   "outputs": [],
   "source": [
    "# Keras\n",
    "lstm_model(train, test)"
   ]
  },
  {
   "cell_type": "code",
   "execution_count": null,
   "id": "33844ff3",
   "metadata": {},
   "outputs": [],
   "source": [
    "# Save mmodel scores to compare all model results in results.py\n",
    "pickle.dump(model_scores, open(\"model_scores.p\", \"wb\"))"
   ]
  }
 ],
 "metadata": {
  "kernelspec": {
   "display_name": "Python 3 (ipykernel)",
   "language": "python",
   "name": "python3"
  },
  "language_info": {
   "codemirror_mode": {
    "name": "ipython",
    "version": 3
   },
   "file_extension": ".py",
   "mimetype": "text/x-python",
   "name": "python",
   "nbconvert_exporter": "python",
   "pygments_lexer": "ipython3",
   "version": "3.9.12"
  }
 },
 "nbformat": 4,
 "nbformat_minor": 5
}
