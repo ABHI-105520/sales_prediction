{
 "cells": [
  {
   "cell_type": "code",
   "execution_count": null,
   "id": "480f9fe6",
   "metadata": {},
   "outputs": [],
   "source": [
    "import pickle\n",
    "import pandas as pd\n",
    "import numpy as np\n",
    "\n",
    "import matplotlib.pyplot as plt\n",
    "import seaborn as sns"
   ]
  },
  {
   "cell_type": "code",
   "execution_count": null,
   "id": "8ed1da5a",
   "metadata": {},
   "outputs": [],
   "source": [
    "def create_results_df():\n",
    "    # Load pickled scores for each model\n",
    "    results_dict = pickle.load(open(\"model_scores.p\", \"rb\"))\n",
    "\n",
    "    # Create pandas df and save as csv\n",
    "    results_df = pd.DataFrame.from_dict(results_dict, orient='index',columns=['RMSE', 'MAE', 'R2'])\n",
    "    results_df = results_df.sort_values(by='RMSE',ascending=False).reset_index()\n",
    "\n",
    "    results_df.to_csv('results.csv')\n",
    "\n",
    "    return results_df"
   ]
  },
  {
   "cell_type": "code",
   "execution_count": null,
   "id": "996d3400",
   "metadata": {},
   "outputs": [],
   "source": [
    "def plot_results(results_df):\n",
    "    fig, ax = plt.subplots(figsize=(12, 5))\n",
    "    sns.lineplot(x=np.arange(len(results_df)), y='RMSE', data=results_df, ax=ax,label='RMSE', color='mediumblue')\n",
    "    sns.lineplot(x=np.arange(len(results_df)), y='MAE', data=results_df, ax=ax,label='MAE', color='Cyan')\n",
    "\n",
    "    plt.xticks(np.arange(len(results_df)), rotation=45)\n",
    "    ax.set_xticklabels(results_df['index'])\n",
    "    ax.set(xlabel=\"Model\",ylabel=\"Scores\",title=\"Model Error Comparison\")\n",
    "    sns.despine()\n",
    "\n",
    "    plt.savefig(f'compare_models.png')"
   ]
  },
  {
   "cell_type": "code",
   "execution_count": null,
   "id": "f00ba1bb",
   "metadata": {},
   "outputs": [],
   "source": [
    "results = create_results_df()\n",
    "plot_results(results)"
   ]
  },
  {
   "cell_type": "code",
   "execution_count": null,
   "id": "9328c8fd",
   "metadata": {},
   "outputs": [],
   "source": []
  }
 ],
 "metadata": {
  "kernelspec": {
   "display_name": "Python 3 (ipykernel)",
   "language": "python",
   "name": "python3"
  },
  "language_info": {
   "codemirror_mode": {
    "name": "ipython",
    "version": 3
   },
   "file_extension": ".py",
   "mimetype": "text/x-python",
   "name": "python",
   "nbconvert_exporter": "python",
   "pygments_lexer": "ipython3",
   "version": "3.9.12"
  }
 },
 "nbformat": 4,
 "nbformat_minor": 5
}
