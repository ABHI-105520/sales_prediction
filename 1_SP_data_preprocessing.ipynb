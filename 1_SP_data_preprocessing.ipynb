{
 "cells": [
  {
   "cell_type": "code",
   "execution_count": null,
   "id": "69c1540b",
   "metadata": {},
   "outputs": [],
   "source": [
    "import pandas as pd"
   ]
  },
  {
   "cell_type": "code",
   "execution_count": null,
   "id": "638f9f32",
   "metadata": {},
   "outputs": [],
   "source": [
    "def load_data():\n",
    "    return pd.read_csv('sales.csv')"
   ]
  },
  {
   "cell_type": "code",
   "execution_count": null,
   "id": "6fd3ea5a",
   "metadata": {},
   "outputs": [],
   "source": [
    "def monthly_sales(data):\n",
    "    monthly_data = data.copy()\n",
    "\n",
    "    # Drop the day indicator from the date column\n",
    "    monthly_data.date = monthly_data.date.apply(lambda x: str(x)[:-3])\n",
    "\n",
    "    # Sum sales per month\n",
    "    monthly_data = monthly_data.groupby('date')['sales'].sum().reset_index()\n",
    "    monthly_data.date = pd.to_datetime(monthly_data.date)\n",
    "\n",
    "    monthly_data.to_csv('monthly_data.csv')\n",
    "\n",
    "    return monthly_data"
   ]
  },
  {
   "cell_type": "code",
   "execution_count": null,
   "id": "63e08619",
   "metadata": {},
   "outputs": [],
   "source": [
    "def get_diff(data):\n",
    "    data['sales_diff'] = data.sales.diff()\n",
    "    data = data.dropna()\n",
    "\n",
    "    data.to_csv('stationary_df.csv')\n",
    "\n",
    "    return data"
   ]
  },
  {
   "cell_type": "code",
   "execution_count": null,
   "id": "0f5f81ca",
   "metadata": {},
   "outputs": [],
   "source": [
    "def generate_supervised(data):\n",
    "    supervised_df = data.copy()\n",
    "\n",
    "    #create column for each lag\n",
    "    for i in range(1, 13):\n",
    "        col_name = 'lag_' + str(i)\n",
    "        supervised_df[col_name] = supervised_df['sales_diff'].shift(i)\n",
    "\n",
    "    #drop null values\n",
    "    supervised_df = supervised_df.dropna().reset_index(drop=True)\n",
    "\n",
    "    supervised_df.to_csv('model_df.csv', index=False)"
   ]
  },
  {
   "cell_type": "code",
   "execution_count": null,
   "id": "bddbe434",
   "metadata": {},
   "outputs": [],
   "source": [
    "sales_data = load_data()"
   ]
  },
  {
   "cell_type": "code",
   "execution_count": null,
   "id": "30040f6e",
   "metadata": {},
   "outputs": [],
   "source": [
    "monthly_df = monthly_sales(sales_data)"
   ]
  },
  {
   "cell_type": "code",
   "execution_count": null,
   "id": "f34a137b",
   "metadata": {},
   "outputs": [],
   "source": [
    "stationary_df = get_diff(monthly_df)\n",
    "generate_supervised(stationary_df)"
   ]
  }
 ],
 "metadata": {
  "kernelspec": {
   "display_name": "Python 3 (ipykernel)",
   "language": "python",
   "name": "python3"
  },
  "language_info": {
   "codemirror_mode": {
    "name": "ipython",
    "version": 3
   },
   "file_extension": ".py",
   "mimetype": "text/x-python",
   "name": "python",
   "nbconvert_exporter": "python",
   "pygments_lexer": "ipython3",
   "version": "3.9.12"
  }
 },
 "nbformat": 4,
 "nbformat_minor": 5
}
